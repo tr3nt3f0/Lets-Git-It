{
 "cells": [
  {
   "cell_type": "markdown",
   "id": "c0e54bc9",
   "metadata": {},
   "source": [
    "# Object Oriented Programming(OOP)"
   ]
  },
  {
   "cell_type": "markdown",
   "id": "90bf95d9",
   "metadata": {},
   "source": [
    "The pupose of OOP is to model real world problems in computers. Examples of problems are: Cars, Banking, Homes, Coffee Pot, Building Twitter. \n",
    "There is an Object in python and we call this as an Super class\n",
    "print() -> Object\n",
    "str() - Object\n",
    "help()- Object\n",
    "example: Inpython, Object.print(), Object.help()\n",
    "Real World Examples:\n",
    "Car Object:\n",
    "Car.steering()\n",
    "car.hasWheels()\n",
    "car.hadBrakes()\n",
    "car.getMaxSpeed()\n",
    "Car.getName()\n",
    "Car.setName()\n",
    "Car is a template- Instance/Blueprint\n",
    "Car.setName(\"Ford\") = Ford Car\n",
    "Car.setName(\"GMC\") = GMC Car\n",
    "\n",
    "###Definition of OOP\n",
    "\n",
    "Understanding the problem domain. This step is crucial: you need to know your customer wants (stakeholders before you can write a program that does what the customer wants)\n",
    "    Figuring out what the type(s) you might want: A good starting point is to read the description the problem domain (Requirements document). You will extract grammatical elements suchs as nouns, verbs, and adjectives from the document to design your virtual objects\n",
    "    Figuring out what feature you want yout typre to have : here you shouls write some code that uses the type you're thinking about.\n",
    "    Writing a class that represents this type: you need to tell python about your type. To do this, you will write a class, including a set of methods(functions) inside that class. You will use the function desing recipe as you design and implement each of your methods.\n",
    "    Testing your code: Your method will have to be tested seperatly as you followed the function design recipe\n",
    "\n",
    "###Function isinstance, Class Object, and Class Book\n",
    "\n",
    "\n"
   ]
  },
  {
   "cell_type": "code",
   "execution_count": 1,
   "id": "4bc6cb26",
   "metadata": {},
   "outputs": [
    {
     "data": {
      "text/plain": [
       "True"
      ]
     },
     "execution_count": 1,
     "metadata": {},
     "output_type": "execute_result"
    }
   ],
   "source": [
    "isinstance('abc', str)"
   ]
  },
  {
   "cell_type": "code",
   "execution_count": 3,
   "id": "31800a06",
   "metadata": {},
   "outputs": [
    {
     "data": {
      "text/plain": [
       "False"
      ]
     },
     "execution_count": 3,
     "metadata": {},
     "output_type": "execute_result"
    }
   ],
   "source": [
    "isinstance(55.2, str)"
   ]
  },
  {
   "cell_type": "code",
   "execution_count": 4,
   "id": "68bf2edc",
   "metadata": {},
   "outputs": [
    {
     "name": "stdout",
     "output_type": "stream",
     "text": [
      "Help on class object in module builtins:\n",
      "\n",
      "class object\n",
      " |  The base class of the class hierarchy.\n",
      " |  \n",
      " |  When called, it accepts no arguments and returns a new featureless\n",
      " |  instance that has no instance attributes and cannot be given any.\n",
      " |  \n",
      " |  Built-in subclasses:\n",
      " |      async_generator\n",
      " |      BaseException\n",
      " |      builtin_function_or_method\n",
      " |      bytearray\n",
      " |      ... and 91 other subclasses\n",
      " |  \n",
      " |  Methods defined here:\n",
      " |  \n",
      " |  __delattr__(self, name, /)\n",
      " |      Implement delattr(self, name).\n",
      " |  \n",
      " |  __dir__(self, /)\n",
      " |      Default dir() implementation.\n",
      " |  \n",
      " |  __eq__(self, value, /)\n",
      " |      Return self==value.\n",
      " |  \n",
      " |  __format__(self, format_spec, /)\n",
      " |      Default object formatter.\n",
      " |  \n",
      " |  __ge__(self, value, /)\n",
      " |      Return self>=value.\n",
      " |  \n",
      " |  __getattribute__(self, name, /)\n",
      " |      Return getattr(self, name).\n",
      " |  \n",
      " |  __gt__(self, value, /)\n",
      " |      Return self>value.\n",
      " |  \n",
      " |  __hash__(self, /)\n",
      " |      Return hash(self).\n",
      " |  \n",
      " |  __init__(self, /, *args, **kwargs)\n",
      " |      Initialize self.  See help(type(self)) for accurate signature.\n",
      " |  \n",
      " |  __le__(self, value, /)\n",
      " |      Return self<=value.\n",
      " |  \n",
      " |  __lt__(self, value, /)\n",
      " |      Return self<value.\n",
      " |  \n",
      " |  __ne__(self, value, /)\n",
      " |      Return self!=value.\n",
      " |  \n",
      " |  __reduce__(self, /)\n",
      " |      Helper for pickle.\n",
      " |  \n",
      " |  __reduce_ex__(self, protocol, /)\n",
      " |      Helper for pickle.\n",
      " |  \n",
      " |  __repr__(self, /)\n",
      " |      Return repr(self).\n",
      " |  \n",
      " |  __setattr__(self, name, value, /)\n",
      " |      Implement setattr(self, name, value).\n",
      " |  \n",
      " |  __sizeof__(self, /)\n",
      " |      Size of object in memory, in bytes.\n",
      " |  \n",
      " |  __str__(self, /)\n",
      " |      Return str(self).\n",
      " |  \n",
      " |  ----------------------------------------------------------------------\n",
      " |  Class methods defined here:\n",
      " |  \n",
      " |  __init_subclass__(...) from builtins.type\n",
      " |      This method is called when a class is subclassed.\n",
      " |      \n",
      " |      The default implementation does nothing. It may be\n",
      " |      overridden to extend subclasses.\n",
      " |  \n",
      " |  __subclasshook__(...) from builtins.type\n",
      " |      Abstract classes can override this to customize issubclass().\n",
      " |      \n",
      " |      This is invoked early on by abc.ABCMeta.__subclasscheck__().\n",
      " |      It should return True, False or NotImplemented.  If it returns\n",
      " |      NotImplemented, the normal algorithm is used.  Otherwise, it\n",
      " |      overrides the normal algorithm (and the outcome is cached).\n",
      " |  \n",
      " |  ----------------------------------------------------------------------\n",
      " |  Static methods defined here:\n",
      " |  \n",
      " |  __new__(*args, **kwargs) from builtins.type\n",
      " |      Create and return a new object.  See help(type) for accurate signature.\n",
      " |  \n",
      " |  ----------------------------------------------------------------------\n",
      " |  Data and other attributes defined here:\n",
      " |  \n",
      " |  __class__ = <class 'type'>\n",
      " |      type(object) -> the object's type\n",
      " |      type(name, bases, dict, **kwds) -> a new type\n",
      "\n"
     ]
    }
   ],
   "source": [
    "#Python has a class called Object, every other class is based on it:\n",
    "help(object)"
   ]
  },
  {
   "cell_type": "code",
   "execution_count": 5,
   "id": "520eb57b",
   "metadata": {},
   "outputs": [
    {
     "data": {
      "text/plain": [
       "True"
      ]
     },
     "execution_count": 5,
     "metadata": {},
     "output_type": "execute_result"
    }
   ],
   "source": [
    "isinstance(55.2, object)"
   ]
  },
  {
   "cell_type": "code",
   "execution_count": 6,
   "id": "10805b4b",
   "metadata": {},
   "outputs": [
    {
     "data": {
      "text/plain": [
       "True"
      ]
     },
     "execution_count": 6,
     "metadata": {},
     "output_type": "execute_result"
    }
   ],
   "source": [
    "isinstance('abc', object)"
   ]
  },
  {
   "cell_type": "code",
   "execution_count": 7,
   "id": "65253d85",
   "metadata": {},
   "outputs": [
    {
     "data": {
      "text/plain": [
       "True"
      ]
     },
     "execution_count": 7,
     "metadata": {},
     "output_type": "execute_result"
    }
   ],
   "source": [
    "isinstance(str, object)"
   ]
  },
  {
   "cell_type": "code",
   "execution_count": 8,
   "id": "49854a55",
   "metadata": {},
   "outputs": [
    {
     "name": "stdout",
     "output_type": "stream",
     "text": [
      "Help on class int in module builtins:\n",
      "\n",
      "class int(object)\n",
      " |  int([x]) -> integer\n",
      " |  int(x, base=10) -> integer\n",
      " |  \n",
      " |  Convert a number or string to an integer, or return 0 if no arguments\n",
      " |  are given.  If x is a number, return x.__int__().  For floating point\n",
      " |  numbers, this truncates towards zero.\n",
      " |  \n",
      " |  If x is not a number or if base is given, then x must be a string,\n",
      " |  bytes, or bytearray instance representing an integer literal in the\n",
      " |  given base.  The literal can be preceded by '+' or '-' and be surrounded\n",
      " |  by whitespace.  The base defaults to 10.  Valid bases are 0 and 2-36.\n",
      " |  Base 0 means to interpret the base from the string as an integer literal.\n",
      " |  >>> int('0b100', base=0)\n",
      " |  4\n",
      " |  \n",
      " |  Built-in subclasses:\n",
      " |      bool\n",
      " |  \n",
      " |  Methods defined here:\n",
      " |  \n",
      " |  __abs__(self, /)\n",
      " |      abs(self)\n",
      " |  \n",
      " |  __add__(self, value, /)\n",
      " |      Return self+value.\n",
      " |  \n",
      " |  __and__(self, value, /)\n",
      " |      Return self&value.\n",
      " |  \n",
      " |  __bool__(self, /)\n",
      " |      True if self else False\n",
      " |  \n",
      " |  __ceil__(...)\n",
      " |      Ceiling of an Integral returns itself.\n",
      " |  \n",
      " |  __divmod__(self, value, /)\n",
      " |      Return divmod(self, value).\n",
      " |  \n",
      " |  __eq__(self, value, /)\n",
      " |      Return self==value.\n",
      " |  \n",
      " |  __float__(self, /)\n",
      " |      float(self)\n",
      " |  \n",
      " |  __floor__(...)\n",
      " |      Flooring an Integral returns itself.\n",
      " |  \n",
      " |  __floordiv__(self, value, /)\n",
      " |      Return self//value.\n",
      " |  \n",
      " |  __format__(self, format_spec, /)\n",
      " |      Default object formatter.\n",
      " |  \n",
      " |  __ge__(self, value, /)\n",
      " |      Return self>=value.\n",
      " |  \n",
      " |  __getattribute__(self, name, /)\n",
      " |      Return getattr(self, name).\n",
      " |  \n",
      " |  __getnewargs__(self, /)\n",
      " |  \n",
      " |  __gt__(self, value, /)\n",
      " |      Return self>value.\n",
      " |  \n",
      " |  __hash__(self, /)\n",
      " |      Return hash(self).\n",
      " |  \n",
      " |  __index__(self, /)\n",
      " |      Return self converted to an integer, if self is suitable for use as an index into a list.\n",
      " |  \n",
      " |  __int__(self, /)\n",
      " |      int(self)\n",
      " |  \n",
      " |  __invert__(self, /)\n",
      " |      ~self\n",
      " |  \n",
      " |  __le__(self, value, /)\n",
      " |      Return self<=value.\n",
      " |  \n",
      " |  __lshift__(self, value, /)\n",
      " |      Return self<<value.\n",
      " |  \n",
      " |  __lt__(self, value, /)\n",
      " |      Return self<value.\n",
      " |  \n",
      " |  __mod__(self, value, /)\n",
      " |      Return self%value.\n",
      " |  \n",
      " |  __mul__(self, value, /)\n",
      " |      Return self*value.\n",
      " |  \n",
      " |  __ne__(self, value, /)\n",
      " |      Return self!=value.\n",
      " |  \n",
      " |  __neg__(self, /)\n",
      " |      -self\n",
      " |  \n",
      " |  __or__(self, value, /)\n",
      " |      Return self|value.\n",
      " |  \n",
      " |  __pos__(self, /)\n",
      " |      +self\n",
      " |  \n",
      " |  __pow__(self, value, mod=None, /)\n",
      " |      Return pow(self, value, mod).\n",
      " |  \n",
      " |  __radd__(self, value, /)\n",
      " |      Return value+self.\n",
      " |  \n",
      " |  __rand__(self, value, /)\n",
      " |      Return value&self.\n",
      " |  \n",
      " |  __rdivmod__(self, value, /)\n",
      " |      Return divmod(value, self).\n",
      " |  \n",
      " |  __repr__(self, /)\n",
      " |      Return repr(self).\n",
      " |  \n",
      " |  __rfloordiv__(self, value, /)\n",
      " |      Return value//self.\n",
      " |  \n",
      " |  __rlshift__(self, value, /)\n",
      " |      Return value<<self.\n",
      " |  \n",
      " |  __rmod__(self, value, /)\n",
      " |      Return value%self.\n",
      " |  \n",
      " |  __rmul__(self, value, /)\n",
      " |      Return value*self.\n",
      " |  \n",
      " |  __ror__(self, value, /)\n",
      " |      Return value|self.\n",
      " |  \n",
      " |  __round__(...)\n",
      " |      Rounding an Integral returns itself.\n",
      " |      Rounding with an ndigits argument also returns an integer.\n",
      " |  \n",
      " |  __rpow__(self, value, mod=None, /)\n",
      " |      Return pow(value, self, mod).\n",
      " |  \n",
      " |  __rrshift__(self, value, /)\n",
      " |      Return value>>self.\n",
      " |  \n",
      " |  __rshift__(self, value, /)\n",
      " |      Return self>>value.\n",
      " |  \n",
      " |  __rsub__(self, value, /)\n",
      " |      Return value-self.\n",
      " |  \n",
      " |  __rtruediv__(self, value, /)\n",
      " |      Return value/self.\n",
      " |  \n",
      " |  __rxor__(self, value, /)\n",
      " |      Return value^self.\n",
      " |  \n",
      " |  __sizeof__(self, /)\n",
      " |      Returns size in memory, in bytes.\n",
      " |  \n",
      " |  __sub__(self, value, /)\n",
      " |      Return self-value.\n",
      " |  \n",
      " |  __truediv__(self, value, /)\n",
      " |      Return self/value.\n",
      " |  \n",
      " |  __trunc__(...)\n",
      " |      Truncating an Integral returns itself.\n",
      " |  \n",
      " |  __xor__(self, value, /)\n",
      " |      Return self^value.\n",
      " |  \n",
      " |  as_integer_ratio(self, /)\n",
      " |      Return integer ratio.\n",
      " |      \n",
      " |      Return a pair of integers, whose ratio is exactly equal to the original int\n",
      " |      and with a positive denominator.\n",
      " |      \n",
      " |      >>> (10).as_integer_ratio()\n",
      " |      (10, 1)\n",
      " |      >>> (-10).as_integer_ratio()\n",
      " |      (-10, 1)\n",
      " |      >>> (0).as_integer_ratio()\n",
      " |      (0, 1)\n",
      " |  \n",
      " |  bit_length(self, /)\n",
      " |      Number of bits necessary to represent self in binary.\n",
      " |      \n",
      " |      >>> bin(37)\n",
      " |      '0b100101'\n",
      " |      >>> (37).bit_length()\n",
      " |      6\n",
      " |  \n",
      " |  conjugate(...)\n",
      " |      Returns self, the complex conjugate of any int.\n",
      " |  \n",
      " |  to_bytes(self, /, length, byteorder, *, signed=False)\n",
      " |      Return an array of bytes representing an integer.\n",
      " |      \n",
      " |      length\n",
      " |        Length of bytes object to use.  An OverflowError is raised if the\n",
      " |        integer is not representable with the given number of bytes.\n",
      " |      byteorder\n",
      " |        The byte order used to represent the integer.  If byteorder is 'big',\n",
      " |        the most significant byte is at the beginning of the byte array.  If\n",
      " |        byteorder is 'little', the most significant byte is at the end of the\n",
      " |        byte array.  To request the native byte order of the host system, use\n",
      " |        `sys.byteorder' as the byte order value.\n",
      " |      signed\n",
      " |        Determines whether two's complement is used to represent the integer.\n",
      " |        If signed is False and a negative integer is given, an OverflowError\n",
      " |        is raised.\n",
      " |  \n",
      " |  ----------------------------------------------------------------------\n",
      " |  Class methods defined here:\n",
      " |  \n",
      " |  from_bytes(bytes, byteorder, *, signed=False) from builtins.type\n",
      " |      Return the integer represented by the given array of bytes.\n",
      " |      \n",
      " |      bytes\n",
      " |        Holds the array of bytes to convert.  The argument must either\n",
      " |        support the buffer protocol or be an iterable object producing bytes.\n",
      " |        Bytes and bytearray are examples of built-in objects that support the\n",
      " |        buffer protocol.\n",
      " |      byteorder\n",
      " |        The byte order used to represent the integer.  If byteorder is 'big',\n",
      " |        the most significant byte is at the beginning of the byte array.  If\n",
      " |        byteorder is 'little', the most significant byte is at the end of the\n",
      " |        byte array.  To request the native byte order of the host system, use\n",
      " |        `sys.byteorder' as the byte order value.\n",
      " |      signed\n",
      " |        Indicates whether two's complement is used to represent the integer.\n",
      " |  \n",
      " |  ----------------------------------------------------------------------\n",
      " |  Static methods defined here:\n",
      " |  \n",
      " |  __new__(*args, **kwargs) from builtins.type\n",
      " |      Create and return a new object.  See help(type) for accurate signature.\n",
      " |  \n",
      " |  ----------------------------------------------------------------------\n",
      " |  Data descriptors defined here:\n",
      " |  \n",
      " |  denominator\n",
      " |      the denominator of a rational number in lowest terms\n",
      " |  \n",
      " |  imag\n",
      " |      the imaginary part of a complex number\n",
      " |  \n",
      " |  numerator\n",
      " |      the numerator of a rational number in lowest terms\n",
      " |  \n",
      " |  real\n",
      " |      the real part of a complex number\n",
      "\n"
     ]
    }
   ],
   "source": [
    "help(int)"
   ]
  },
  {
   "cell_type": "code",
   "execution_count": 9,
   "id": "53b05e5e",
   "metadata": {},
   "outputs": [
    {
     "data": {
      "text/plain": [
       "['__class__',\n",
       " '__delattr__',\n",
       " '__dir__',\n",
       " '__doc__',\n",
       " '__eq__',\n",
       " '__format__',\n",
       " '__ge__',\n",
       " '__getattribute__',\n",
       " '__gt__',\n",
       " '__hash__',\n",
       " '__init__',\n",
       " '__init_subclass__',\n",
       " '__le__',\n",
       " '__lt__',\n",
       " '__ne__',\n",
       " '__new__',\n",
       " '__reduce__',\n",
       " '__reduce_ex__',\n",
       " '__repr__',\n",
       " '__setattr__',\n",
       " '__sizeof__',\n",
       " '__str__',\n",
       " '__subclasshook__']"
      ]
     },
     "execution_count": 9,
     "metadata": {},
     "output_type": "execute_result"
    }
   ],
   "source": [
    "dir(object)"
   ]
  },
  {
   "cell_type": "code",
   "execution_count": 10,
   "id": "180b1c41",
   "metadata": {},
   "outputs": [],
   "source": [
    "class Book(object):\n",
    "    pass"
   ]
  },
  {
   "cell_type": "code",
   "execution_count": 11,
   "id": "fea0d6af",
   "metadata": {},
   "outputs": [
    {
     "data": {
      "text/plain": [
       "type"
      ]
     },
     "execution_count": 11,
     "metadata": {},
     "output_type": "execute_result"
    }
   ],
   "source": [
    "penguinBook = Book()"
   ]
  },
  {
   "cell_type": "code",
   "execution_count": 15,
   "id": "2c1c016d",
   "metadata": {},
   "outputs": [
    {
     "ename": "NameError",
     "evalue": "name 'penguinBook' is not defined",
     "output_type": "error",
     "traceback": [
      "\u001b[0;31m---------------------------------------------------------------------------\u001b[0m",
      "\u001b[0;31mNameError\u001b[0m                                 Traceback (most recent call last)",
      "Input \u001b[0;32mIn [15]\u001b[0m, in \u001b[0;36m<cell line: 1>\u001b[0;34m()\u001b[0m\n\u001b[0;32m----> 1\u001b[0m \u001b[38;5;28mid\u001b[39m(\u001b[43mpenguinBook\u001b[49m)\n",
      "\u001b[0;31mNameError\u001b[0m: name 'penguinBook' is not defined"
     ]
    }
   ],
   "source": [
    "id(penguinBook)"
   ]
  },
  {
   "cell_type": "code",
   "execution_count": 16,
   "id": "8f727d30",
   "metadata": {},
   "outputs": [],
   "source": [
    "#You should connect to DB \n",
    "class ConnnectDB():\n",
    "    pass"
   ]
  },
  {
   "cell_type": "code",
   "execution_count": 17,
   "id": "86669fb4",
   "metadata": {},
   "outputs": [
    {
     "ename": "NameError",
     "evalue": "name 'tableName' is not defined",
     "output_type": "error",
     "traceback": [
      "\u001b[0;31m---------------------------------------------------------------------------\u001b[0m",
      "\u001b[0;31mNameError\u001b[0m                                 Traceback (most recent call last)",
      "Input \u001b[0;32mIn [17]\u001b[0m, in \u001b[0;36m<cell line: 1>\u001b[0;34m()\u001b[0m\n\u001b[0;32m----> 1\u001b[0m \u001b[38;5;28;01mclass\u001b[39;00m \u001b[38;5;21;01mRetrieveData\u001b[39;00m(\u001b[43mtableName\u001b[49m):\n\u001b[1;32m      2\u001b[0m     \u001b[38;5;28;01mpass\u001b[39;00m\n",
      "\u001b[0;31mNameError\u001b[0m: name 'tableName' is not defined"
     ]
    }
   ],
   "source": [
    "class RetrieveData(tableName):\n",
    "    pass"
   ]
  },
  {
   "cell_type": "code",
   "execution_count": 18,
   "id": "f0b22fdd",
   "metadata": {},
   "outputs": [],
   "source": [
    "class GenerateFCCDataFrame():\n",
    "    pass"
   ]
  },
  {
   "cell_type": "markdown",
   "id": "945bce60",
   "metadata": {},
   "source": [
    "# Access Students DB"
   ]
  },
  {
   "cell_type": "markdown",
   "id": "0055cf3e",
   "metadata": {},
   "source": [
    "1)View All Report cards\n",
    "2)View a students report card\n",
    "3)Adding a studnet\n",
    "4)Add a marks to the student\n",
    "5)Enter 5 to exit "
   ]
  },
  {
   "cell_type": "code",
   "execution_count": 20,
   "id": "26ddd22d",
   "metadata": {},
   "outputs": [],
   "source": [
    "# Step1 : We will create a student DB\n",
    "#  use mock DB, Random DB, mackaroo.com\n",
    "student_data = [[\"Ben\", {\"Maths\": 67, \"English\": 78, \"Science\": 72}],\n",
    "                [\"Mark\",{\"Maths\": 56, \"Art\": 64, \"History\": 39, \"Geography\":55}],\n",
    "                [\"Paul\", {\"English\": 66, \"History\": 88}]]\n",
    "grades = ((0, \"Fail\"), (50, \"D\"), (60,\"C\"), (70, \"B\"), (80, \"A\"), (101, \"Cheat\"))"
   ]
  },
  {
   "cell_type": "code",
   "execution_count": 28,
   "id": "c2201220",
   "metadata": {},
   "outputs": [
    {
     "name": "stdout",
     "output_type": "stream",
     "text": [
      "Maths 67\n",
      "English 78\n",
      "Science 72\n"
     ]
    },
    {
     "data": {
      "text/plain": [
       "dict_items"
      ]
     },
     "execution_count": 28,
     "metadata": {},
     "output_type": "execute_result"
    }
   ],
   "source": [
    "studentMarks = {\"Maths\": 67, \"English\": 78, \"Science\": 72}\n",
    "for subject, mark in studentMarks.items():\n",
    "    print(subject, mark)\n",
    "    \n",
    "type(studentMarks.items())"
   ]
  },
  {
   "cell_type": "code",
   "execution_count": 32,
   "id": "b6f809e8",
   "metadata": {},
   "outputs": [
    {
     "name": "stdout",
     "output_type": "stream",
     "text": [
      "Fail\n",
      "D\n",
      "C\n",
      "B\n",
      "A\n",
      "Cheat\n"
     ]
    }
   ],
   "source": [
    "for i in grades:\n",
    "    print(i[1])"
   ]
  },
  {
   "cell_type": "code",
   "execution_count": 43,
   "id": "b6a4ee9d",
   "metadata": {},
   "outputs": [
    {
     "name": "stdout",
     "output_type": "stream",
     "text": [
      "Welcome to the student Database\n",
      "What can I help you with?\n",
      "Enter 1 to view all report cards\n",
      "Enter 2 to view the report card for a student \n",
      "Enter 3 to add a student\n",
      "Enter 4 to add a mark to a student\n",
      "Enter 5 to exit\n",
      "Choice: 1\n",
      "Report card for student Ben\n",
      "Maths  :  C\n",
      "English  :  B\n",
      "Science  :  B\n",
      "Report card for student Mark\n",
      "Maths  :  D\n",
      "Art  :  C\n",
      "History  :  Fail\n",
      "Geography  :  D\n",
      "Report card for student Paul\n",
      "English  :  C\n",
      "History  :  A\n",
      "Press enter to continue2\n",
      "Welcome to the student Database\n",
      "What can I help you with?\n",
      "Enter 1 to view all report cards\n",
      "Enter 2 to view the report card for a student \n",
      "Enter 3 to add a student\n",
      "Enter 4 to add a mark to a student\n",
      "Enter 5 to exit\n",
      "Choice: 5\n",
      "Thank you for using the Student Database\n"
     ]
    }
   ],
   "source": [
    "class Student():\n",
    "    def __init__(self,name, marks): # This is a constructor\n",
    "        self.name = name # This acts as a member variable, and accessible throughout the class\n",
    "        self.marks = marks\n",
    "        \n",
    "    def print_report_card(self):\n",
    "        print(\"Report card for student\", self.name)\n",
    "        for subject, mark in self.marks.items():\n",
    "            for i in grades:\n",
    "                if mark < i[0]:\n",
    "                    print(subject, \" : \", prev_grade)\n",
    "                    break\n",
    "                prev_grade = i[1]\n",
    "                \n",
    "    def add_mark(self, student_name, subject, mark):\n",
    "        if subject in self.marks.keys():\n",
    "            print(student_name, \" already has a mark for \", subject)\n",
    "            user_input = input(\"Overwrite Y/N? \")\n",
    "            if user_input == \"Y\" or user_input == \"y\":\n",
    "                self.marks[subject] = mark\n",
    "                return \"Students mark updated\"\n",
    "            else:\n",
    "                return \"Students mark not updated\"\n",
    "        else:\n",
    "            self.marks[subject] = mark\n",
    "            return \"Students mark added\"\n",
    "class Students():\n",
    "    def __init__(self, all_students):\n",
    "        self.students = []\n",
    "        for student, mark in all_students:\n",
    "            self.add_student(student, mark)\n",
    "            \n",
    "    def add_student(self, student_name, marks = {}):\n",
    "        if self.exists(student_name):\n",
    "            return \"Student alredy exists in the database\"\n",
    "        else:\n",
    "            self.students.append(Student(student_name, marks))\n",
    "            return \"Student Added\"\n",
    "        \n",
    "    def print_report_cards(self, student_name = None):\n",
    "        for student in self.students:\n",
    "            if student_name == None or student_name == student.name:\n",
    "                student.print_report_card()\n",
    "    \n",
    "    def exists(self, student_name):\n",
    "        for student in self.students:\n",
    "            if student_name == student.name:\n",
    "                return True\n",
    "        return False\n",
    "    \n",
    "    def add_mark(self, student_name, subject, mark):\n",
    "        for student in self.students:\n",
    "            if student_name == student.name:\n",
    "                return student.add_mark(student_name, subject, mark)\n",
    "        return \"Student Not Found\"\n",
    "                \n",
    "  # Here we start witth the Implementation\n",
    "students = Students(student_data) # This calls class Students()\n",
    "while True:\n",
    "    print(\"Welcome to the student Database\")\n",
    "    print(\"What can I help you with?\")\n",
    "    print(\"Enter 1 to view all report cards\")\n",
    "    print(\"Enter 2 to view the report card for a student \")\n",
    "    print(\"Enter 3 to add a student\")\n",
    "    print(\"Enter 4 to add a mark to a student\")\n",
    "    print(\"Enter 5 to exit\")\n",
    "    \n",
    "    try:\n",
    "        user_choice = int(input(\"Choice: \"))\n",
    "    except ValueError:\n",
    "        print(\"That's not a number I recognize\")\n",
    "        user_choice = 0\n",
    "        \n",
    "    if user_choice == 1:\n",
    "        students.print_report_cards()\n",
    "    elif user_choice == 2:\n",
    "        enter_student = input(\"Which Student? \")\n",
    "        students.print_report_cards(enter_student)\n",
    "    elif user_choice == 3:\n",
    "        enter_student = input(\"Student Name? \")\n",
    "        print(students.add_student(enter_student))\n",
    "    elif user_choice == 4:\n",
    "        enter_student = input(\"Student Name? \")\n",
    "        enter_subject = input(\"Subject? \")\n",
    "        num_error = True\n",
    "        while num_error:\n",
    "            num_error = False\n",
    "            try:\n",
    "                enter_mark = int(input(\"Mark? \"))\n",
    "            except ValueError:\n",
    "                print(\"I don't recognize that as a number\")\n",
    "                num_error = True\n",
    "        print(students.add_mark(enter_student, enter_subject, enter_mark))\n",
    "    elif user_choice == 5:\n",
    "        break\n",
    "    else:\n",
    "        print(\"Unknown choice\")\n",
    "    \n",
    "    input(\"Press enter to continue\")\n",
    "print(\"Thank you for using the Student Database\")"
   ]
  },
  {
   "cell_type": "code",
   "execution_count": null,
   "id": "78cf9961",
   "metadata": {},
   "outputs": [],
   "source": [
    "#Homework: add comments for each line in this code"
   ]
  }
 ],
 "metadata": {
  "kernelspec": {
   "display_name": "Python 3 (ipykernel)",
   "language": "python",
   "name": "python3"
  },
  "language_info": {
   "codemirror_mode": {
    "name": "ipython",
    "version": 3
   },
   "file_extension": ".py",
   "mimetype": "text/x-python",
   "name": "python",
   "nbconvert_exporter": "python",
   "pygments_lexer": "ipython3",
   "version": "3.9.12"
  }
 },
 "nbformat": 4,
 "nbformat_minor": 5
}
